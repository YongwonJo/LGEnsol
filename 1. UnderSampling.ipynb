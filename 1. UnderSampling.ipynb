{
 "cells": [
  {
   "cell_type": "markdown",
   "id": "b412ce95",
   "metadata": {},
   "source": [
    "# Under sampling method"
   ]
  },
  {
   "cell_type": "code",
   "execution_count": null,
   "id": "e81ce555",
   "metadata": {},
   "outputs": [],
   "source": [
    "!pip install imblearn"
   ]
  },
  {
   "cell_type": "markdown",
   "id": "d5e93e15",
   "metadata": {},
   "source": [
    "## Load modules"
   ]
  },
  {
   "cell_type": "code",
   "execution_count": null,
   "id": "b6288e76",
   "metadata": {},
   "outputs": [],
   "source": [
    "import matplotlib.pyplot as plt\n",
    "import numpy as np\n",
    "import pandas as pd\n",
    "\n",
    "from sklearn.datasets import make_classification\n",
    "from sklearn.model_selection import train_test_split\n",
    "from sklearn import tree\n",
    "from sklearn.metrics import confusion_matrix"
   ]
  },
  {
   "cell_type": "code",
   "execution_count": null,
   "id": "de12921e",
   "metadata": {},
   "outputs": [],
   "source": [
    "from imblearn.under_sampling import RandomUnderSampler\n",
    "from imblearn.under_sampling import TomekLinks\n",
    "from imblearn.under_sampling import CondensedNearestNeighbour\n",
    "from imblearn.under_sampling import OneSidedSelection"
   ]
  },
  {
   "cell_type": "markdown",
   "id": "e7d33cb2",
   "metadata": {},
   "source": [
    "## Define plot_representation function"
   ]
  },
  {
   "cell_type": "code",
   "execution_count": null,
   "id": "8dda0707",
   "metadata": {},
   "outputs": [],
   "source": [
    "def plot_representation(X, y, X_syn=None, y_syn=None, method='real'):\n",
    "    # 정상 데이터, 이상 데이터 추출\n",
    "    y_normal, y_anomaly = y[y==0].dropna(), y[y==1].dropna()\n",
    "    X_normal, X_anomaly = X.loc[list(y_normal.index), :], X.loc[list(y_anomaly.index), :]\n",
    "    \n",
    "    # Sampling 결과 비교\n",
    "    # method == 'real': 실제 데이터만 시각화\n",
    "    # method != 'real': Sampling 결과와 실제 데이터 시각화 비교\n",
    "    if method.lower() != 'real':\n",
    "        fig = plt.figure(figsize=(16, 8))\n",
    "        ax1 = fig.add_subplot(1, 2, 1)\n",
    "    else:\n",
    "        fig = plt.figure(figsize=(8, 8))\n",
    "        ax1 = fig.add_subplot(1, 1, 1)\n",
    "\n",
    "    # create_dataset 으로 생성된 데이터 시각화\n",
    "    # 실제 데이터 사용시 2차원으로 축소 후 본 함수 사용\n",
    "    # column 명을 정확히 기입해주어야함\n",
    "    ax1.scatter(X_normal['X1'], X_normal['X2'], alpha=0.3, c='blue', label='Normal')\n",
    "    ax1.scatter(X_anomaly['X1'], X_anomaly['X2'], alpha=0.3, c='red', label='Anomaly')\n",
    "    \n",
    "    ax1.spines['top'].set_visible(False)\n",
    "    ax1.spines['right'].set_visible(False)\n",
    "    ax1.get_xaxis().tick_bottom()\n",
    "    ax1.get_yaxis().tick_left()\n",
    "\n",
    "    plt.xlim((-5, 5))\n",
    "    plt.ylim((-5, 5))\n",
    "    plt.legend()\n",
    "    plt.tight_layout()\n",
    "    plt.title('Real', fontsize=20)\n",
    "\n",
    "    if X_syn is not None:\n",
    "        ax2 = fig.add_subplot(1, 2, 2)\n",
    "        y_syn_normal, y_syn_anomaly = y_syn[y_syn==0].dropna(), y_syn[y_syn==1].dropna()\n",
    "        X_syn_normal, X_syn_anomaly = X_syn.loc[list(y_syn_normal.index), :], X_syn.loc[list(y_syn_anomaly.index), :]\n",
    "\n",
    "        ax2.scatter(X_syn_normal['X1'], X_syn_normal['X2'], alpha=0.3, c='blue', label='Normal')\n",
    "        ax2.scatter(X_syn_anomaly['X1'], X_syn_anomaly['X2'], alpha=0.3, c='red', label='Anomaly')\n",
    "\n",
    "        ax2.spines['top'].set_visible(False)\n",
    "        ax2.spines['right'].set_visible(False)\n",
    "        ax2.get_xaxis().tick_bottom()\n",
    "        ax2.get_yaxis().tick_left()\n",
    "\n",
    "        plt.xlim((-5, 5))\n",
    "        plt.ylim((-5, 5))\n",
    "        plt.legend()\n",
    "        plt.tight_layout()\n",
    "        plt.title(method, fontsize=20)\n",
    "        \n",
    "    plt.show()"
   ]
  },
  {
   "cell_type": "markdown",
   "id": "49ce4bac",
   "metadata": {},
   "source": [
    "## Create_Dataset function: generate example dataset\n",
    "### https://scikit-learn.org/stable/modules/generated/sklearn.datasets.make_classification.html"
   ]
  },
  {
   "cell_type": "code",
   "execution_count": null,
   "id": "6d64b3e1",
   "metadata": {},
   "outputs": [],
   "source": [
    "def create_dataset(n_samples=2000,\n",
    "                weights=(0.8, 0.2),\n",
    "                n_classes=2,\n",
    "                class_sep=1,\n",
    "                n_cluster=1,\n",
    "                random_state=0):\n",
    "    df = make_classification(n_samples=n_samples, n_features=2,\n",
    "                            n_informative=2, n_redundant=0, n_repeated=0,\n",
    "                            n_classes=n_classes,\n",
    "                            n_clusters_per_class=n_cluster,\n",
    "                            weights=list(weights),\n",
    "                            class_sep=class_sep, random_state=random_state)\n",
    "    \n",
    "    X = pd.DataFrame(df[0], columns=['X1', 'X2'])\n",
    "    y = pd.DataFrame(df[1], columns=['y'])\n",
    "    return X, y"
   ]
  },
  {
   "cell_type": "code",
   "execution_count": null,
   "id": "165be34b",
   "metadata": {},
   "outputs": [],
   "source": [
    "X_syn, y_syn = create_dataset(n_samples=5000, weights=(0.9, 0.1), n_cluster=1, random_state=711)"
   ]
  },
  {
   "cell_type": "code",
   "execution_count": null,
   "id": "2db8d6c5",
   "metadata": {},
   "outputs": [],
   "source": [
    "X_syn.shape, y_syn.shape"
   ]
  },
  {
   "cell_type": "code",
   "execution_count": null,
   "id": "57f2f3e4",
   "metadata": {},
   "outputs": [],
   "source": [
    "X_train, X_test, y_train, y_test = train_test_split(X_syn,y_syn, random_state=2022)"
   ]
  },
  {
   "cell_type": "code",
   "execution_count": null,
   "id": "10b56624",
   "metadata": {},
   "outputs": [],
   "source": [
    "plot_representation(X_train, y_train, X_test, y_test, method='Test')"
   ]
  },
  {
   "cell_type": "code",
   "execution_count": null,
   "id": "13fe5f80",
   "metadata": {},
   "outputs": [],
   "source": [
    "dt_tree = tree.DecisionTreeClassifier(random_state=2022)\n",
    "dt_tree.fit(X_train, y_train)\n",
    "\n",
    "y_pred_test = dt_tree.predict(X_test)\n",
    "cm_baseline = confusion_matrix(y_test, y_pred_test)"
   ]
  },
  {
   "cell_type": "code",
   "execution_count": null,
   "id": "cb46d09f",
   "metadata": {},
   "outputs": [],
   "source": [
    "cm_baseline"
   ]
  },
  {
   "cell_type": "code",
   "execution_count": null,
   "id": "01cc4384",
   "metadata": {},
   "outputs": [],
   "source": [
    "print(\"Recall for anomaly observations in test dataset: %.4f\"%(cm_baseline[1, 1]/cm_baseline[1, :].sum()))\n",
    "print(\"Precision for anomaly observations in test dataset: %.4f\"%(cm_baseline[1, 1]/cm_baseline[:, 1].sum()) )"
   ]
  },
  {
   "cell_type": "markdown",
   "id": "e92203e7",
   "metadata": {},
   "source": [
    "## 'Imblearn' package\n",
    "### https://imbalanced-learn.org/stable/"
   ]
  },
  {
   "cell_type": "markdown",
   "id": "5e4c365a",
   "metadata": {},
   "source": [
    "### Random Under Sampling(RUS)"
   ]
  },
  {
   "cell_type": "code",
   "execution_count": null,
   "id": "2dc9981c",
   "metadata": {},
   "outputs": [],
   "source": [
    "rus = RandomUnderSampler()\n",
    "X_resampled, y_resampled = rus.fit_resample(X_train, y_train)\n",
    "\n",
    "plot_representation(X_train, y_train, X_resampled, y_resampled, 'RUS')"
   ]
  },
  {
   "cell_type": "code",
   "execution_count": null,
   "id": "3bc43bdf",
   "metadata": {},
   "outputs": [],
   "source": [
    "dt_tree = tree.DecisionTreeClassifier(random_state=2022)\n",
    "rus_tree = dt_tree.fit(X_resampled, y_resampled)\n",
    "\n",
    "y_pred_test = rus_tree.predict(X_test)\n",
    "cm_rus = confusion_matrix(y_test, y_pred_test)"
   ]
  },
  {
   "cell_type": "code",
   "execution_count": null,
   "id": "6390e65d",
   "metadata": {},
   "outputs": [],
   "source": [
    "cm_rus"
   ]
  },
  {
   "cell_type": "code",
   "execution_count": null,
   "id": "bbe884de",
   "metadata": {},
   "outputs": [],
   "source": [
    "print(\"Recall for anomaly observations in test dataset: %.4f\"%(cm_rus[1, 1]/cm_rus[1, :].sum()))\n",
    "print(\"Precision for anomaly observations in test dataset: %.4f\"%(cm_rus[1, 1]/cm_rus[:, 1].sum()) )"
   ]
  },
  {
   "cell_type": "markdown",
   "id": "ec97b320",
   "metadata": {},
   "source": [
    "### TomeLinks"
   ]
  },
  {
   "cell_type": "code",
   "execution_count": null,
   "id": "67ca2bbf",
   "metadata": {},
   "outputs": [],
   "source": [
    "tl = TomekLinks()\n",
    "X_resampled, y_resampled = tl.fit_resample(X_train, y_train)\n",
    "\n",
    "plot_representation(X_train, y_train, X_resampled, y_resampled, 'TomekLinks')"
   ]
  },
  {
   "cell_type": "code",
   "execution_count": null,
   "id": "835b696a",
   "metadata": {},
   "outputs": [],
   "source": [
    "tl_tree = tree.DecisionTreeClassifier(random_state=2022)\n",
    "tl_tree = tl_tree.fit(X_resampled, y_resampled)\n",
    "\n",
    "y_pred_test = tl_tree.predict(X_test)\n",
    "cm_tl = confusion_matrix(y_test, y_pred_test)"
   ]
  },
  {
   "cell_type": "code",
   "execution_count": null,
   "id": "53471944",
   "metadata": {},
   "outputs": [],
   "source": [
    "cm_tl"
   ]
  },
  {
   "cell_type": "code",
   "execution_count": null,
   "id": "cd5337cd",
   "metadata": {},
   "outputs": [],
   "source": [
    "print(\"Recall for anomaly observations in test dataset: %.4f\"%(cm_tl[1, 1]/cm_tl[1, :].sum()))\n",
    "print(\"Precision for anomaly observations in test dataset: %.4f\"%(cm_tl[1, 1]/cm_tl[:, 1].sum()) )"
   ]
  },
  {
   "cell_type": "markdown",
   "id": "7c2a45a0",
   "metadata": {},
   "source": [
    "### Condensed Nearest Neighbor"
   ]
  },
  {
   "cell_type": "code",
   "execution_count": null,
   "id": "193000de",
   "metadata": {},
   "outputs": [],
   "source": [
    "cnn = CondensedNearestNeighbour(n_jobs=4)\n",
    "X_resampled, y_resampled = cnn.fit_resample(X_train, y_train)\n",
    "\n",
    "plot_representation(X_train, y_train, X_resampled, y_resampled, 'Condensed Nearest Neighbour')"
   ]
  },
  {
   "cell_type": "code",
   "execution_count": null,
   "id": "16df8d56",
   "metadata": {},
   "outputs": [],
   "source": [
    "cnn_tree = tree.DecisionTreeClassifier(random_state=2022)\n",
    "cnn_tree = cnn_tree.fit(X_resampled, y_resampled)\n",
    "\n",
    "y_pred_test = cnn_tree.predict(X_test)\n",
    "cm_cnn = confusion_matrix(y_test, y_pred_test)"
   ]
  },
  {
   "cell_type": "code",
   "execution_count": null,
   "id": "2dacc4cf",
   "metadata": {},
   "outputs": [],
   "source": [
    "cm_cnn"
   ]
  },
  {
   "cell_type": "code",
   "execution_count": null,
   "id": "d306c3ee",
   "metadata": {},
   "outputs": [],
   "source": [
    "print(\"Recall for anomaly observations in test dataset: %.4f\"%(cm_cnn[1, 1]/cm_cnn[1, :].sum()))\n",
    "print(\"Precision for anomaly observations in test dataset: %.4f\"%(cm_cnn[1, 1]/cm_cnn[:, 1].sum()) )"
   ]
  },
  {
   "cell_type": "markdown",
   "id": "17a736eb",
   "metadata": {},
   "source": [
    "### One-sided selection"
   ]
  },
  {
   "cell_type": "code",
   "execution_count": null,
   "id": "ab9c3534",
   "metadata": {},
   "outputs": [],
   "source": [
    "oss = OneSidedSelection()\n",
    "X_resampled, y_resampled = oss.fit_resample(X_train, y_train)\n",
    "\n",
    "plot_representation(X_train, y_train, X_resampled, y_resampled, 'One-sided selection')"
   ]
  },
  {
   "cell_type": "code",
   "execution_count": null,
   "id": "8d34085d",
   "metadata": {},
   "outputs": [],
   "source": [
    "dt_tree = tree.DecisionTreeClassifier(random_state=2022)\n",
    "oss_tree = dt_tree.fit(X_resampled, y_resampled)\n",
    "\n",
    "y_pred_test = oss_tree.predict(X_test)\n",
    "cm_oss = confusion_matrix(y_test, y_pred_test)"
   ]
  },
  {
   "cell_type": "code",
   "execution_count": null,
   "id": "472fcf69",
   "metadata": {},
   "outputs": [],
   "source": [
    "cm_oss"
   ]
  },
  {
   "cell_type": "code",
   "execution_count": null,
   "id": "fca4cf26",
   "metadata": {},
   "outputs": [],
   "source": [
    "print(\"Recall for anomaly observations in test dataset: %.4f\"%(cm_oss[1, 1]/cm_oss[1, :].sum()))\n",
    "print(\"Precision for anomaly observations in test dataset: %.4f\"%(cm_oss[1, 1]/cm_oss[:, 1].sum()) )"
   ]
  },
  {
   "cell_type": "code",
   "execution_count": null,
   "id": "01952aa4",
   "metadata": {},
   "outputs": [],
   "source": []
  }
 ],
 "metadata": {
  "kernelspec": {
   "display_name": "Python 3 (ipykernel)",
   "language": "python",
   "name": "python3"
  },
  "language_info": {
   "codemirror_mode": {
    "name": "ipython",
    "version": 3
   },
   "file_extension": ".py",
   "mimetype": "text/x-python",
   "name": "python",
   "nbconvert_exporter": "python",
   "pygments_lexer": "ipython3",
   "version": "3.7.11"
  }
 },
 "nbformat": 4,
 "nbformat_minor": 5
}
