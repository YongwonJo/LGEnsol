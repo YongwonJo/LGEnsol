{
 "cells": [
  {
   "cell_type": "code",
   "execution_count": null,
   "id": "d730276a",
   "metadata": {},
   "outputs": [],
   "source": [
    "import os\n",
    "import numpy as np\n",
    "\n",
    "from tqdm import tqdm\n",
    "\n",
    "from torchvision import datasets, transforms\n",
    "from torch.utils.data import DataLoader"
   ]
  },
  {
   "cell_type": "code",
   "execution_count": null,
   "id": "81140ede",
   "metadata": {},
   "outputs": [],
   "source": [
    "def preprocess_GAN():\n",
    "    transform = transforms.Compose([\n",
    "        transforms.ToTensor(),\n",
    "        transforms.Normalize(mean=(0.5),\n",
    "                            std=(0.5,))\n",
    "    ])\n",
    "\n",
    "    train_data = datasets.MNIST(root='./mnist/',\n",
    "                        train=True,\n",
    "                        transform=transform,\n",
    "                        download=True)\n",
    "    test_data = datasets.MNIST(root='./mnist/',\n",
    "                        train=False,\n",
    "                        transform=transform,\n",
    "                        download=True)\n",
    "\n",
    "    train_loader = DataLoader(train_data, batch_size=1, shuffle=True)\n",
    "    test_loader = DataLoader(test_data, batch_size=1, shuffle=True)\n",
    "\n",
    "    save_dir = os.path.join(os.getcwd(), 'mnist', 'data')\n",
    "    os.makedirs(save_dir, exist_ok=True)\n",
    "\n",
    "    cnt = 0\n",
    "    with tqdm(total=len(train_loader)) as tbar:\n",
    "        for idx, sample in enumerate(train_loader):\n",
    "            image = sample[0].squeeze()\n",
    "            label = sample[1].squeeze()\n",
    "\n",
    "#             if label.item() == 8:\n",
    "            image[image<0] = 0\n",
    "            image = np.array(image*255, dtype=np.uint8)\n",
    "\n",
    "            np.save(os.path.join(save_dir, f'{idx}.npy'), image)\n",
    "            tbar.update(1)"
   ]
  },
  {
   "cell_type": "code",
   "execution_count": null,
   "id": "cf898ddb",
   "metadata": {},
   "outputs": [],
   "source": [
    "preprocess_GAN()"
   ]
  }
 ],
 "metadata": {
  "kernelspec": {
   "display_name": "Python 3 (ipykernel)",
   "language": "python",
   "name": "python3"
  },
  "language_info": {
   "codemirror_mode": {
    "name": "ipython",
    "version": 3
   },
   "file_extension": ".py",
   "mimetype": "text/x-python",
   "name": "python",
   "nbconvert_exporter": "python",
   "pygments_lexer": "ipython3",
   "version": "3.7.11"
  }
 },
 "nbformat": 4,
 "nbformat_minor": 5
}
