{
 "cells": [
  {
   "cell_type": "code",
   "execution_count": null,
   "id": "f189900c",
   "metadata": {},
   "outputs": [],
   "source": [
    "import matplotlib.pyplot as plt\n",
    "import numpy as np\n",
    "import pandas as pd\n",
    "import os\n",
    "\n",
    "import urllib.request as request\n",
    "\n",
    "from sklearn.preprocessing import LabelEncoder\n",
    "from sklearn.preprocessing import MinMaxScaler\n",
    "from sklearn.manifold import TSNE\n",
    "from sklearn.model_selection import train_test_split\n",
    "\n",
    "from sklearn.ensemble import RandomForestClassifier\n",
    "from sklearn.svm import SVC\n",
    "from sklearn.metrics import accuracy_score, confusion_matrix"
   ]
  },
  {
   "cell_type": "code",
   "execution_count": null,
   "id": "c61adef6",
   "metadata": {},
   "outputs": [],
   "source": [
    "from imblearn.under_sampling import RandomUnderSampler\n",
    "from imblearn.under_sampling import TomekLinks\n",
    "from imblearn.under_sampling import CondensedNearestNeighbour\n",
    "from imblearn.under_sampling import OneSidedSelection"
   ]
  },
  {
   "cell_type": "code",
   "execution_count": null,
   "id": "caacaba7",
   "metadata": {},
   "outputs": [],
   "source": [
    "# UCI Contraceptive method choice Dataset Download\n",
    "# https://archive.ics.uci.edu/ml/datasets/Contraceptive+Method+Choice\n",
    "url = 'https://archive.ics.uci.edu/ml/machine-learning-databases/cmc/cmc.data'"
   ]
  },
  {
   "cell_type": "code",
   "execution_count": null,
   "id": "0f8938f9",
   "metadata": {},
   "outputs": [],
   "source": [
    "root_dir = os.getcwd()\n",
    "data_dir = os.path.join(root_dir, 'data')\n",
    "os.makedirs(data_dir, exist_ok=True)"
   ]
  },
  {
   "cell_type": "code",
   "execution_count": null,
   "id": "53b4afbf",
   "metadata": {},
   "outputs": [],
   "source": [
    "save_fname = os.path.join(data_dir, 'cmc.data')\n",
    "request.urlretrieve(url, save_fname)"
   ]
  },
  {
   "cell_type": "code",
   "execution_count": null,
   "id": "b28d1727",
   "metadata": {},
   "outputs": [],
   "source": [
    "cols = [\n",
    "    'Wife_Age', 'Wife_Education', \n",
    "    'Husband_Education', 'Children',\n",
    "    'Religion', 'Working', 'Occupation',\n",
    "    'LivingIndex', 'Media_Exposure', 'Target'\n",
    "]\n",
    "df = pd.read_csv(save_fname, header=None, names=cols)"
   ]
  },
  {
   "cell_type": "code",
   "execution_count": null,
   "id": "c68b088c",
   "metadata": {},
   "outputs": [],
   "source": [
    "df = df[df['Target']<3]"
   ]
  },
  {
   "cell_type": "code",
   "execution_count": null,
   "id": "6cd30c69",
   "metadata": {},
   "outputs": [],
   "source": [
    "df"
   ]
  },
  {
   "cell_type": "code",
   "execution_count": null,
   "id": "1e6aabbc",
   "metadata": {},
   "outputs": [],
   "source": [
    "cols_num = ['Wife_Age', 'Children']\n",
    "cols_cat = ['Wife_Education', 'Husband_Education',\n",
    "            'Working','Religion', 'Occupation',\n",
    "            'LivingIndex', 'Media_Exposure']\n",
    "col_target = ['Target']\n",
    "\n",
    "print(f\"X_Features(Categorical): \\n {cols_cat} \\n\")\n",
    "print(f\"X_Features(Numercial): \\n {cols_num} \\n\")\n",
    "print(f\"Y_Features(Categorical): \\n {col_target}\")"
   ]
  },
  {
   "cell_type": "code",
   "execution_count": null,
   "id": "7e5eed19",
   "metadata": {},
   "outputs": [],
   "source": [
    "for c in cols_cat:\n",
    "    df = pd.concat([df, pd.get_dummies(df[c], \n",
    "                            prefix=c, \n",
    "                            drop_first=True)], axis=1)\n",
    "    df = df.drop([c], axis=1)"
   ]
  },
  {
   "cell_type": "code",
   "execution_count": null,
   "id": "fccae5f5",
   "metadata": {},
   "outputs": [],
   "source": [
    "tmp = df.drop(col_target, axis=1)"
   ]
  },
  {
   "cell_type": "code",
   "execution_count": null,
   "id": "938a48f9",
   "metadata": {},
   "outputs": [],
   "source": [
    "X_tsne= TSNE(n_components=2, verbose=1, n_iter=2000, random_state=2022, n_jobs=2).fit_transform(tmp)"
   ]
  },
  {
   "cell_type": "code",
   "execution_count": null,
   "id": "06814d89",
   "metadata": {},
   "outputs": [],
   "source": [
    "X_tsne = pd.DataFrame(X_tsne, index=list(df.index), columns=['t-SNE_1', 't-SNE_2'])"
   ]
  },
  {
   "cell_type": "code",
   "execution_count": null,
   "id": "7462408e",
   "metadata": {},
   "outputs": [],
   "source": [
    "X_train, X_test, y_train, y_test = train_test_split(X_tsne, df[col_target], train_size=0.80)"
   ]
  },
  {
   "cell_type": "code",
   "execution_count": null,
   "id": "ae72fc21",
   "metadata": {},
   "outputs": [],
   "source": [
    "model = RandomForestClassifier()\n",
    "model.fit(X_train, y_train)\n",
    "\n",
    "y_pred_test = model.predict(X_test)\n",
    "cm_baseline = confusion_matrix(y_test, y_pred_test)"
   ]
  },
  {
   "cell_type": "code",
   "execution_count": null,
   "id": "92e5d6f1",
   "metadata": {},
   "outputs": [],
   "source": [
    "cm_baseline"
   ]
  },
  {
   "cell_type": "code",
   "execution_count": null,
   "id": "8cccffb7",
   "metadata": {},
   "outputs": [],
   "source": [
    "accuracy_score(y_test, y_pred_test)"
   ]
  },
  {
   "cell_type": "code",
   "execution_count": null,
   "id": "2bd93128",
   "metadata": {},
   "outputs": [],
   "source": [
    "x_min, x_max = X_train.values[:, 0].min() - 1, X_train.values[:, 0].max() + 1\n",
    "y_min, y_max = X_train.values[:, 1].min() - 1, X_train.values[:, 1].max() + 1\n",
    "xx, yy = np.meshgrid(np.arange(x_min, x_max, 0.1),\n",
    "                     np.arange(y_min, y_max, 0.1))"
   ]
  },
  {
   "cell_type": "code",
   "execution_count": null,
   "id": "9538ca67",
   "metadata": {},
   "outputs": [],
   "source": [
    "z = model.predict(np.c_[xx.ravel(), yy.ravel()])\n",
    "z = z.reshape(xx.shape)"
   ]
  },
  {
   "cell_type": "code",
   "execution_count": null,
   "id": "8325d7f3",
   "metadata": {},
   "outputs": [],
   "source": [
    "y_major = y_train[y_train['Target']==1]\n",
    "y_minor = y_train[y_train['Target']==2]\n",
    "\n",
    "X_major = X_train.loc[list(y_major.index), :]\n",
    "X_minor = X_train.loc[list(y_minor.index), :]"
   ]
  },
  {
   "cell_type": "code",
   "execution_count": null,
   "id": "a7b1a23d",
   "metadata": {},
   "outputs": [],
   "source": [
    "plt.figure(figsize=(10, 10))\n",
    "plt.contourf(xx, yy, z, alpha=0.1, colors=['pink', 'blue'])\n",
    "plt.scatter(X_major.values[:, 0],\n",
    "            X_major.values[:, 1],\n",
    "            c='hotpink', s=20, edgecolors='black', label='Majority class')\n",
    "plt.scatter(X_minor.values[:, 0],\n",
    "            X_minor.values[:, 1],\n",
    "            c='blue', s=20, edgecolors='black', label='Minority class')\n",
    "plt.xlabel(\"t-SNE dim1\")\n",
    "plt.xlabel(\"t-SNE dim2\")\n",
    "plt.legend()\n",
    "plt.show()"
   ]
  },
  {
   "cell_type": "code",
   "execution_count": null,
   "id": "f2455278",
   "metadata": {},
   "outputs": [],
   "source": []
  }
 ],
 "metadata": {
  "kernelspec": {
   "display_name": "Python 3 (ipykernel)",
   "language": "python",
   "name": "python3"
  },
  "language_info": {
   "codemirror_mode": {
    "name": "ipython",
    "version": 3
   },
   "file_extension": ".py",
   "mimetype": "text/x-python",
   "name": "python",
   "nbconvert_exporter": "python",
   "pygments_lexer": "ipython3",
   "version": "3.7.11"
  }
 },
 "nbformat": 4,
 "nbformat_minor": 5
}
