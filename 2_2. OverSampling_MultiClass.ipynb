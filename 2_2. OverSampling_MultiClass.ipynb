{
 "cells": [
  {
   "cell_type": "markdown",
   "id": "04f08ab1",
   "metadata": {},
   "source": [
    "# OverSampling"
   ]
  },
  {
   "cell_type": "markdown",
   "id": "50c1d3c3",
   "metadata": {},
   "source": [
    "## Load modules"
   ]
  },
  {
   "cell_type": "code",
   "execution_count": null,
   "id": "d0aa2793",
   "metadata": {},
   "outputs": [],
   "source": [
    "import matplotlib.pyplot as plt\n",
    "import numpy as np\n",
    "import pandas as pd\n",
    "\n",
    "from sklearn.datasets import make_classification\n",
    "from sklearn.model_selection import train_test_split\n",
    "from sklearn import tree\n",
    "from sklearn.metrics import confusion_matrix"
   ]
  },
  {
   "cell_type": "code",
   "execution_count": null,
   "id": "fef20838",
   "metadata": {},
   "outputs": [],
   "source": [
    "from imblearn.over_sampling import RandomOverSampler\n",
    "from imblearn.over_sampling import SMOTE\n",
    "from imblearn.over_sampling import BorderlineSMOTE\n",
    "from imblearn.over_sampling import ADASYN"
   ]
  },
  {
   "cell_type": "code",
   "execution_count": null,
   "id": "faa535f4",
   "metadata": {},
   "outputs": [],
   "source": [
    "def plot_representation(X, y, X_syn=None, y_syn=None, method='real'):\n",
    "    # 정상 데이터, 이상 데이터 추출\n",
    "    y_normal, y_anomaly1, y_anomaly2 = y[y==0].dropna(), y[y==1].dropna(), y[y==2].dropna()\n",
    "    X_normal, X_anomaly1 = X.loc[list(y_normal.index), :], X.loc[list(y_anomaly1.index), :]\n",
    "    X_anomaly2 = X.loc[list(y_anomaly2.index), :]\n",
    "    \n",
    "    # Sampling 결과 비교\n",
    "    # method == 'real': 실제 데이터만 시각화\n",
    "    # method != 'real': Sampling 결과와 실제 데이터 시각화 비교\n",
    "    if method.lower() != 'real':\n",
    "        fig = plt.figure(figsize=(16, 8))\n",
    "        ax1 = fig.add_subplot(1, 2, 1)\n",
    "    else:\n",
    "        fig = plt.figure(figsize=(8, 8))\n",
    "        ax1 = fig.add_subplot(1, 1, 1)\n",
    "\n",
    "    # create_dataset 으로 생성된 데이터 시각화\n",
    "    # 실제 데이터 사용시 2차원으로 축소 후 본 함수 사용\n",
    "    # column 명을 정확히 기입해주어야함\n",
    "    ax1.scatter(X_normal['X1'], X_normal['X2'], alpha=0.3, c='blue', label='Normal')\n",
    "    ax1.scatter(X_anomaly1['X1'], X_anomaly1['X2'], alpha=0.3, c='red', label='Anomaly1')\n",
    "    ax1.scatter(X_anomaly2['X1'], X_anomaly2['X2'], alpha=0.3, c='green', label='Anomaly2')\n",
    "    \n",
    "    ax1.spines['top'].set_visible(False)\n",
    "    ax1.spines['right'].set_visible(False)\n",
    "    ax1.get_xaxis().tick_bottom()\n",
    "    ax1.get_yaxis().tick_left()\n",
    "\n",
    "    plt.xlim((-5, 5))\n",
    "    plt.ylim((-5, 5))\n",
    "    plt.legend()\n",
    "    plt.tight_layout()\n",
    "    plt.title('Real', fontsize=20)\n",
    "\n",
    "    if X_syn is not None:\n",
    "        ax2 = fig.add_subplot(1, 2, 2)\n",
    "        y_syn_normal, y_syn_anomaly1, y_syn_anomaly2 = y_syn[y_syn==0].dropna(), y_syn[y_syn==1].dropna(), y_syn[y_syn==2].dropna()\n",
    "        X_syn_normal, X_syn_anomaly1 = X_syn.loc[list(y_syn_normal.index), :], X_syn.loc[list(y_syn_anomaly1.index), :]\n",
    "        X_syn_anomaly2 = X_syn.loc[list(y_syn_anomaly2.index), :]\n",
    "\n",
    "        ax2.scatter(X_syn_normal['X1'], X_syn_normal['X2'], alpha=0.3, c='blue', label='Normal')\n",
    "        ax2.scatter(X_syn_anomaly1['X1'], X_syn_anomaly1['X2'], alpha=0.3, c='red', label='Anomaly')\n",
    "        ax2.scatter(X_syn_anomaly2['X1'], X_syn_anomaly2['X2'], alpha=0.3, c='green', label='Anomaly')\n",
    "\n",
    "        ax2.spines['top'].set_visible(False)\n",
    "        ax2.spines['right'].set_visible(False)\n",
    "        ax2.get_xaxis().tick_bottom()\n",
    "        ax2.get_yaxis().tick_left()\n",
    "\n",
    "        plt.xlim((-5, 5))\n",
    "        plt.ylim((-5, 5))\n",
    "        plt.legend()\n",
    "        plt.tight_layout()\n",
    "        plt.title(method, fontsize=20)\n",
    "        \n",
    "    plt.show()"
   ]
  },
  {
   "cell_type": "markdown",
   "id": "820c269d",
   "metadata": {},
   "source": [
    "## Create_Dataset function: Generate example dataset\n",
    "### https://scikit-learn.org/stable/modules/generated/sklearn.datasets.make_classification.html"
   ]
  },
  {
   "cell_type": "code",
   "execution_count": null,
   "id": "e1617f21",
   "metadata": {},
   "outputs": [],
   "source": [
    "def create_dataset(n_samples=2000,\n",
    "                weights=(0.7, 0.15, 0.15),\n",
    "                n_classes=3,\n",
    "                class_sep=1,\n",
    "                n_cluster=1,\n",
    "                random_state=0):\n",
    "    df = make_classification(n_samples=n_samples, n_features=2,\n",
    "                            n_informative=2, n_redundant=0, n_repeated=0,\n",
    "                            n_classes=n_classes,\n",
    "                            n_clusters_per_class=n_cluster,\n",
    "                            weights=list(weights),\n",
    "                            class_sep=class_sep, random_state=random_state)\n",
    "    \n",
    "    X = pd.DataFrame(df[0], columns=['X1', 'X2'])\n",
    "    y = pd.DataFrame(df[1], columns=['y'])\n",
    "    return X, y"
   ]
  },
  {
   "cell_type": "code",
   "execution_count": null,
   "id": "bc94e706",
   "metadata": {},
   "outputs": [],
   "source": [
    "X_syn, y_syn = create_dataset(n_samples=5000, weights=(0.7, 0.15, 0.15), n_classes=3, n_cluster=1, random_state=44)"
   ]
  },
  {
   "cell_type": "code",
   "execution_count": null,
   "id": "1d1f62d9",
   "metadata": {},
   "outputs": [],
   "source": [
    "X_syn.shape, y_syn.shape"
   ]
  },
  {
   "cell_type": "code",
   "execution_count": null,
   "id": "0f3373b5",
   "metadata": {},
   "outputs": [],
   "source": [
    "X_train, X_test, y_train, y_test = train_test_split(X_syn,y_syn, random_state=2022)"
   ]
  },
  {
   "cell_type": "code",
   "execution_count": null,
   "id": "7c57ab8a",
   "metadata": {},
   "outputs": [],
   "source": [
    "plot_representation(X_train, y_train, X_test, y_test, method='Test')"
   ]
  },
  {
   "cell_type": "code",
   "execution_count": null,
   "id": "51b01bc9",
   "metadata": {},
   "outputs": [],
   "source": [
    "dt_tree = tree.DecisionTreeClassifier(random_state=2022)\n",
    "dt_tree.fit(X_train, y_train)\n",
    "\n",
    "y_pred_test = dt_tree.predict(X_test)\n",
    "cm_baseline = confusion_matrix(y_test, y_pred_test)"
   ]
  },
  {
   "cell_type": "code",
   "execution_count": null,
   "id": "5af5c610",
   "metadata": {},
   "outputs": [],
   "source": [
    "cm_baseline"
   ]
  },
  {
   "cell_type": "code",
   "execution_count": null,
   "id": "e10149ff",
   "metadata": {},
   "outputs": [],
   "source": [
    "print(\"Recall for anomaly observations in test dataset: %.4f\"%(cm_baseline[1, 1]/cm_baseline[1, :].sum()))\n",
    "print(\"Precision for anomaly observations in test dataset: %.4f\"%(cm_baseline[1, 1]/cm_baseline[:, 1].sum()) )"
   ]
  },
  {
   "cell_type": "markdown",
   "id": "d53be368",
   "metadata": {},
   "source": [
    "## Random Over Sampling(ROS)"
   ]
  },
  {
   "cell_type": "code",
   "execution_count": null,
   "id": "c832eb63",
   "metadata": {},
   "outputs": [],
   "source": [
    "ros = RandomOverSampler()\n",
    "X_resampled, y_resampled = ros.fit_resample(X_train, y_train)\n",
    "\n",
    "plot_representation(X_train, y_train, X_resampled, y_resampled, 'ROS')"
   ]
  },
  {
   "cell_type": "code",
   "execution_count": null,
   "id": "38b9f8fc",
   "metadata": {},
   "outputs": [],
   "source": [
    "dt_tree = tree.DecisionTreeClassifier(random_state=2022)\n",
    "ros_tree = dt_tree.fit(X_resampled, y_resampled)\n",
    "\n",
    "y_pred_test = ros_tree.predict(X_test)\n",
    "cm_ros = confusion_matrix(y_test, y_pred_test)"
   ]
  },
  {
   "cell_type": "code",
   "execution_count": null,
   "id": "eebd5fd3",
   "metadata": {},
   "outputs": [],
   "source": [
    "cm_ros"
   ]
  },
  {
   "cell_type": "code",
   "execution_count": null,
   "id": "6829317b",
   "metadata": {},
   "outputs": [],
   "source": [
    "print(\"Recall for abnormal data in test dataset: %.4f\"%(cm_ros[1, 1]/cm_ros[1, :].sum()))\n",
    "print(\"Precision for abnormal data in test dataset: %.4f\"%(cm_ros[1, 1]/cm_ros[:, 1].sum()) )"
   ]
  },
  {
   "cell_type": "markdown",
   "id": "c942030e",
   "metadata": {},
   "source": [
    "## SMOTE"
   ]
  },
  {
   "cell_type": "code",
   "execution_count": null,
   "id": "0c12783b",
   "metadata": {},
   "outputs": [],
   "source": [
    "smote = SMOTE(k_neighbors=5)\n",
    "X_resampled, y_resampled = smote.fit_resample(X_train, y_train)\n",
    "\n",
    "plot_representation(X_train, y_train, X_resampled, y_resampled, 'SMOTE')"
   ]
  },
  {
   "cell_type": "code",
   "execution_count": null,
   "id": "97e3ce7e",
   "metadata": {},
   "outputs": [],
   "source": [
    "dt_tree = tree.DecisionTreeClassifier(random_state=2022)\n",
    "smote_tree = dt_tree.fit(X_resampled, y_resampled)\n",
    "\n",
    "y_pred_test = smote_tree.predict(X_test)\n",
    "cm_smote = confusion_matrix(y_test, y_pred_test)"
   ]
  },
  {
   "cell_type": "code",
   "execution_count": null,
   "id": "1a5c122d",
   "metadata": {},
   "outputs": [],
   "source": [
    "cm_smote"
   ]
  },
  {
   "cell_type": "code",
   "execution_count": null,
   "id": "13c3db98",
   "metadata": {},
   "outputs": [],
   "source": [
    "print(\"Recall for abnormal data in test dataset: %.4f\"%(cm_smote[1, 1]/cm_smote[1, :].sum()))\n",
    "print(\"Precision for abnormal data in test dataset: %.4f\"%(cm_smote[1, 1]/cm_smote[:, 1].sum()) )"
   ]
  },
  {
   "cell_type": "markdown",
   "id": "6ca5a03a",
   "metadata": {},
   "source": [
    "## Borderline-SMOTE"
   ]
  },
  {
   "cell_type": "code",
   "execution_count": null,
   "id": "0447608f",
   "metadata": {},
   "outputs": [],
   "source": [
    "bl_smote = BorderlineSMOTE(k_neighbors=5, m_neighbors=2)\n",
    "X_resampled, y_resampled = bl_smote.fit_resample(X_train, y_train)\n",
    "\n",
    "plot_representation(X_train, y_train, X_resampled, y_resampled, 'Boderline-SMOTE')"
   ]
  },
  {
   "cell_type": "code",
   "execution_count": null,
   "id": "a2471d56",
   "metadata": {},
   "outputs": [],
   "source": [
    "dt_tree = tree.DecisionTreeClassifier(random_state=2022)\n",
    "blsmote_tree = dt_tree.fit(X_resampled, y_resampled)\n",
    "\n",
    "y_pred_test = blsmote_tree.predict(X_test)\n",
    "cm_blsmote = confusion_matrix(y_test, y_pred_test)"
   ]
  },
  {
   "cell_type": "code",
   "execution_count": null,
   "id": "554fcf24",
   "metadata": {},
   "outputs": [],
   "source": [
    "cm_blsmote"
   ]
  },
  {
   "cell_type": "code",
   "execution_count": null,
   "id": "9e17acc6",
   "metadata": {},
   "outputs": [],
   "source": [
    "print(\"Recall for abnormal data in test dataset: %.4f\"%(cm_blsmote[1, 1]/cm_blsmote[1, :].sum()))\n",
    "print(\"Precision for abnormal data in test dataset: %.4f\"%(cm_blsmote[1, 1]/cm_blsmote[:, 1].sum()) )"
   ]
  },
  {
   "cell_type": "markdown",
   "id": "79f20305",
   "metadata": {},
   "source": [
    "## ADASYN"
   ]
  },
  {
   "cell_type": "code",
   "execution_count": null,
   "id": "7a0999e3",
   "metadata": {},
   "outputs": [],
   "source": [
    "adasyn = ADASYN(n_neighbors=3)\n",
    "X_resampled, y_resampled = adasyn.fit_resample(X_train, y_train)\n",
    "\n",
    "plot_representation(X_train, y_train, X_resampled, y_resampled, 'ADASYN')"
   ]
  },
  {
   "cell_type": "code",
   "execution_count": null,
   "id": "e86c207f",
   "metadata": {},
   "outputs": [],
   "source": [
    "dt_tree = tree.DecisionTreeClassifier(random_state=2022)\n",
    "adasyn_tree = dt_tree.fit(X_resampled, y_resampled)\n",
    "\n",
    "y_pred_test = adasyn_tree.predict(X_test)\n",
    "cm_adasyn = confusion_matrix(y_test, y_pred_test)"
   ]
  },
  {
   "cell_type": "code",
   "execution_count": null,
   "id": "0d26a510",
   "metadata": {},
   "outputs": [],
   "source": [
    "cm_adasyn"
   ]
  },
  {
   "cell_type": "code",
   "execution_count": null,
   "id": "854fa2f4",
   "metadata": {},
   "outputs": [],
   "source": [
    "print(\"Recall for abnormal data in test dataset: %.4f\"%(cm_adasyn[1, 1]/cm_adasyn[1, :].sum()))\n",
    "print(\"Precision for abnormal data in test dataset: %.4f\"%(cm_adasyn[1, 1]/cm_adasyn[:, 1].sum()) )"
   ]
  }
 ],
 "metadata": {
  "kernelspec": {
   "display_name": "Python 3 (ipykernel)",
   "language": "python",
   "name": "python3"
  },
  "language_info": {
   "codemirror_mode": {
    "name": "ipython",
    "version": 3
   },
   "file_extension": ".py",
   "mimetype": "text/x-python",
   "name": "python",
   "nbconvert_exporter": "python",
   "pygments_lexer": "ipython3",
   "version": "3.7.11"
  }
 },
 "nbformat": 4,
 "nbformat_minor": 5
}
