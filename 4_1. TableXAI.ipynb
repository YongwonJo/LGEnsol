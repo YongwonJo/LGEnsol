{
 "cells": [
  {
   "cell_type": "code",
   "execution_count": null,
   "id": "cf69e0f0",
   "metadata": {},
   "outputs": [],
   "source": [
    "import os, warnings\n",
    "warnings.filterwarnings('ignore')\n",
    "import pandas as pd\n",
    "import numpy as np\n",
    "\n",
    "import urllib.request as request"
   ]
  },
  {
   "cell_type": "code",
   "execution_count": null,
   "id": "89d3151d",
   "metadata": {},
   "outputs": [],
   "source": [
    "from sklearn.preprocessing import LabelEncoder\n",
    "from sklearn.preprocessing import MinMaxScaler\n",
    "from sklearn.model_selection import train_test_split\n",
    "from sklearn.ensemble import GradientBoostingClassifier\n",
    "\n",
    "from sklearn.metrics import accuracy_score"
   ]
  },
  {
   "cell_type": "code",
   "execution_count": null,
   "id": "ff210e05",
   "metadata": {},
   "outputs": [],
   "source": [
    "!pip install lime"
   ]
  },
  {
   "cell_type": "code",
   "execution_count": null,
   "id": "c271c1a3",
   "metadata": {},
   "outputs": [],
   "source": [
    "import lime\n",
    "import lime.lime_tabular"
   ]
  },
  {
   "cell_type": "code",
   "execution_count": null,
   "id": "d7260e25",
   "metadata": {},
   "outputs": [],
   "source": [
    "# UCI Adult Dataset Download\n",
    "# https://archive.ics.uci.edu/ml/datasets/Adult\n",
    "url = 'https://archive.ics.uci.edu/ml/machine-learning-databases/adult/adult.data'"
   ]
  },
  {
   "cell_type": "code",
   "execution_count": null,
   "id": "6f8f00ac",
   "metadata": {},
   "outputs": [],
   "source": [
    "root_dir = os.getcwd()\n",
    "data_dir = os.path.join(root_dir, 'data')\n",
    "os.makedirs(data_dir, exist_ok=True)"
   ]
  },
  {
   "cell_type": "code",
   "execution_count": null,
   "id": "05d4278f",
   "metadata": {},
   "outputs": [],
   "source": [
    "save_fname = os.path.join(data_dir, 'adult.data')\n",
    "request.urlretrieve(url, save_fname)"
   ]
  },
  {
   "cell_type": "code",
   "execution_count": null,
   "id": "88b8e256",
   "metadata": {},
   "outputs": [],
   "source": [
    "cols = [\"Age\", \"Workclass\", \"fnlwgt\", \"Education\", \"Education-Num\",\n",
    "       \"Marital Status\",\"Occupation\", \"Relationship\", \"Race\", \"Sex\",\n",
    "       \"Capital Gain\", \"Capital Loss\",\"Hours per week\", \"Country\", \"Income\"]"
   ]
  },
  {
   "cell_type": "code",
   "execution_count": null,
   "id": "1c992a18",
   "metadata": {},
   "outputs": [],
   "source": [
    "df = pd.read_csv(save_fname, header=None,\n",
    "                names=cols)"
   ]
  },
  {
   "cell_type": "code",
   "execution_count": null,
   "id": "6726413a",
   "metadata": {},
   "outputs": [],
   "source": [
    "col_categorical = list()\n",
    "col_numerical = list()\n",
    "col_target = list()\n",
    "\n",
    "for col, type_ in df.dtypes.to_dict().items():\n",
    "    if col == 'Income':\n",
    "        col_target.append(col)\n",
    "    elif str(type_) == 'int64':\n",
    "        col_numerical.append(col)\n",
    "    elif str(type_) == 'object':\n",
    "        col_categorical.append(col)\n",
    "    else:\n",
    "        raise ValueError\n",
    "        \n",
    "print(f\"X_Features(Categorical): \\n {col_categorical} \\n\")\n",
    "print(f\"X_Features(Numercial): \\n {col_numerical} \\n\")\n",
    "print(f\"Y_Features(Categorical): \\n {col_target}\")"
   ]
  },
  {
   "cell_type": "code",
   "execution_count": null,
   "id": "b9b98359",
   "metadata": {},
   "outputs": [],
   "source": [
    "col_target"
   ]
  },
  {
   "cell_type": "code",
   "execution_count": null,
   "id": "fdf9e99f",
   "metadata": {},
   "outputs": [],
   "source": [
    "scaler_LB = LabelEncoder()\n",
    "df[col_target[0]] = scaler_LB.fit_transform(df[col_target[0]])\n",
    "df_target_class = scaler_LB.classes_\n",
    "print(df_target_class.ravel())"
   ]
  },
  {
   "cell_type": "code",
   "execution_count": null,
   "id": "00f678aa",
   "metadata": {},
   "outputs": [],
   "source": [
    "df[col_categorical].astype(str)"
   ]
  },
  {
   "cell_type": "code",
   "execution_count": null,
   "id": "846df608",
   "metadata": {},
   "outputs": [],
   "source": [
    "categorical_names = {}\n",
    "for col in col_categorical:\n",
    "    scaler_LB = LabelEncoder()\n",
    "    df[col] = scaler_LB.fit_transform(df[col])\n",
    "    categorical_names[col] = scaler_LB.classes_\n",
    "\n",
    "cat_dummy = pd.get_dummies(df[col_categorical].astype(str))\n",
    "\n",
    "col_categorical_oh = cat_dummy.columns.tolist()\n",
    "\n",
    "df = pd.merge(df[col_numerical+col_target], cat_dummy, how='left', left_index=True, right_index=True)"
   ]
  },
  {
   "cell_type": "code",
   "execution_count": null,
   "id": "2cb27ff8",
   "metadata": {},
   "outputs": [],
   "source": [
    "X_train, X_test, y_train, y_test = train_test_split(df[col_numerical+col_categorical_oh],\n",
    "                                                          df[col_target],\n",
    "                                                          train_size=0.80)"
   ]
  },
  {
   "cell_type": "code",
   "execution_count": null,
   "id": "7123caf1",
   "metadata": {},
   "outputs": [],
   "source": [
    "X_train.head()\n",
    "\n",
    "model_gb = GradientBoostingClassifier(n_estimators=100, random_state=20220713)\n",
    "model_gb.fit(X_train, y_train)"
   ]
  },
  {
   "cell_type": "code",
   "execution_count": null,
   "id": "5e03eb88",
   "metadata": {},
   "outputs": [],
   "source": [
    "accuracy_score(y_test, model_gb.predict(X_test))"
   ]
  },
  {
   "cell_type": "code",
   "execution_count": null,
   "id": "918ce8e4",
   "metadata": {},
   "outputs": [],
   "source": [
    "predict_fn = lambda x: model_gb.predict_proba(x)"
   ]
  },
  {
   "cell_type": "code",
   "execution_count": null,
   "id": "26167a3d",
   "metadata": {},
   "outputs": [],
   "source": [
    "explainer = lime.lime_tabular.LimeTabularExplainer(training_data=X_train.values,\n",
    "                                                   feature_names=X_train.columns,\n",
    "                                                   categorical_features=col_categorical_oh,\n",
    "                                                   class_names=df_target_class,\n",
    "                                                   kernel_width=3)"
   ]
  },
  {
   "cell_type": "code",
   "execution_count": null,
   "id": "1909304d",
   "metadata": {},
   "outputs": [],
   "source": [
    "i = 2\n",
    "exp = explainer.explain_instance(X_test.values[i], predict_fn, num_features=5)\n",
    "exp.show_in_notebook(show_all=False)"
   ]
  },
  {
   "cell_type": "code",
   "execution_count": null,
   "id": "e8e60a83",
   "metadata": {},
   "outputs": [],
   "source": [
    "!pip install shap"
   ]
  },
  {
   "cell_type": "code",
   "execution_count": null,
   "id": "76da5e39",
   "metadata": {},
   "outputs": [],
   "source": [
    "import shap\n",
    "shap.initjs()"
   ]
  },
  {
   "cell_type": "code",
   "execution_count": null,
   "id": "ff903845",
   "metadata": {},
   "outputs": [],
   "source": [
    "explainer = shap.TreeExplainer(model=model_gb, data=X_train)"
   ]
  },
  {
   "cell_type": "code",
   "execution_count": null,
   "id": "d14b0024",
   "metadata": {},
   "outputs": [],
   "source": [
    "shap_values = explainer(X_test)"
   ]
  },
  {
   "cell_type": "code",
   "execution_count": null,
   "id": "ce491084",
   "metadata": {},
   "outputs": [],
   "source": [
    "shap.plots.waterfall(shap_values[1])"
   ]
  },
  {
   "cell_type": "code",
   "execution_count": null,
   "id": "4ac73e3b",
   "metadata": {},
   "outputs": [],
   "source": [
    "shap.plots.force(explainer.expected_value, shap_values.values[0, :], features=X_test.iloc[0, :])\n"
   ]
  },
  {
   "cell_type": "code",
   "execution_count": null,
   "id": "c4b9c171",
   "metadata": {},
   "outputs": [],
   "source": [
    "shap.plots.beeswarm(shap_values)"
   ]
  },
  {
   "cell_type": "code",
   "execution_count": null,
   "id": "578efe9f",
   "metadata": {},
   "outputs": [],
   "source": [
    "shap.plots.bar(shap_values)"
   ]
  },
  {
   "cell_type": "code",
   "execution_count": null,
   "id": "c6a82e85",
   "metadata": {},
   "outputs": [],
   "source": [
    "for name in X_train.columns:\n",
    "    shap.dependence_plot(name, shap_values.values, X_test, display_features=X_test)"
   ]
  }
 ],
 "metadata": {
  "kernelspec": {
   "display_name": "Python 3 (ipykernel)",
   "language": "python",
   "name": "python3"
  },
  "language_info": {
   "codemirror_mode": {
    "name": "ipython",
    "version": 3
   },
   "file_extension": ".py",
   "mimetype": "text/x-python",
   "name": "python",
   "nbconvert_exporter": "python",
   "pygments_lexer": "ipython3",
   "version": "3.7.11"
  }
 },
 "nbformat": 4,
 "nbformat_minor": 5
}
