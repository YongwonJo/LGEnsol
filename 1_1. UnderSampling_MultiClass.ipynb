{
 "cells": [
  {
   "cell_type": "markdown",
   "id": "2c9aa94d",
   "metadata": {},
   "source": [
    "# Under sampling method for Multi-class classification"
   ]
  },
  {
   "cell_type": "code",
   "execution_count": null,
   "id": "56dedd0c",
   "metadata": {},
   "outputs": [],
   "source": [
    "!pip install imblearn"
   ]
  },
  {
   "cell_type": "markdown",
   "id": "662fe223",
   "metadata": {},
   "source": [
    "## Load modules"
   ]
  },
  {
   "cell_type": "code",
   "execution_count": null,
   "id": "2e3485a0",
   "metadata": {},
   "outputs": [],
   "source": [
    "import matplotlib.pyplot as plt\n",
    "import numpy as np\n",
    "import pandas as pd\n",
    "\n",
    "from sklearn.datasets import make_classification\n",
    "from sklearn.model_selection import train_test_split\n",
    "from sklearn import tree\n",
    "from sklearn.metrics import confusion_matrix"
   ]
  },
  {
   "cell_type": "code",
   "execution_count": null,
   "id": "38aa59a3",
   "metadata": {},
   "outputs": [],
   "source": [
    "from imblearn.under_sampling import RandomUnderSampler\n",
    "from imblearn.under_sampling import TomekLinks\n",
    "from imblearn.under_sampling import CondensedNearestNeighbour\n",
    "from imblearn.under_sampling import OneSidedSelection"
   ]
  },
  {
   "cell_type": "markdown",
   "id": "7d52e82f",
   "metadata": {},
   "source": [
    "## Define plot_representation function"
   ]
  },
  {
   "cell_type": "code",
   "execution_count": null,
   "id": "7978d9aa",
   "metadata": {},
   "outputs": [],
   "source": [
    "def plot_representation(X, y, X_syn=None, y_syn=None, method='real'):\n",
    "    # 정상 데이터, 이상 데이터 추출\n",
    "    y_normal, y_anomaly1, y_anomaly2 = y[y==0].dropna(), y[y==1].dropna(), y[y==2].dropna()\n",
    "    X_normal, X_anomaly1 = X.loc[list(y_normal.index), :], X.loc[list(y_anomaly1.index), :]\n",
    "    X_anomaly2 = X.loc[list(y_anomaly2.index), :]\n",
    "    \n",
    "    # Sampling 결과 비교\n",
    "    # method == 'real': 실제 데이터만 시각화\n",
    "    # method != 'real': Sampling 결과와 실제 데이터 시각화 비교\n",
    "    if method.lower() != 'real':\n",
    "        fig = plt.figure(figsize=(16, 8))\n",
    "        ax1 = fig.add_subplot(1, 2, 1)\n",
    "    else:\n",
    "        fig = plt.figure(figsize=(8, 8))\n",
    "        ax1 = fig.add_subplot(1, 1, 1)\n",
    "\n",
    "    # create_dataset 으로 생성된 데이터 시각화\n",
    "    # 실제 데이터 사용시 2차원으로 축소 후 본 함수 사용\n",
    "    # column 명을 정확히 기입해주어야함\n",
    "    ax1.scatter(X_normal['X1'], X_normal['X2'], alpha=0.3, c='blue', label='Normal')\n",
    "    ax1.scatter(X_anomaly1['X1'], X_anomaly1['X2'], alpha=0.3, c='red', label='Anomaly1')\n",
    "    ax1.scatter(X_anomaly2['X1'], X_anomaly2['X2'], alpha=0.3, c='green', label='Anomaly2')\n",
    "    \n",
    "    ax1.spines['top'].set_visible(False)\n",
    "    ax1.spines['right'].set_visible(False)\n",
    "    ax1.get_xaxis().tick_bottom()\n",
    "    ax1.get_yaxis().tick_left()\n",
    "\n",
    "    plt.xlim((-5, 5))\n",
    "    plt.ylim((-5, 5))\n",
    "    plt.legend()\n",
    "    plt.tight_layout()\n",
    "    plt.title('Real', fontsize=20)\n",
    "\n",
    "    if X_syn is not None:\n",
    "        ax2 = fig.add_subplot(1, 2, 2)\n",
    "        y_syn_normal, y_syn_anomaly1, y_syn_anomaly2 = y_syn[y_syn==0].dropna(), y_syn[y_syn==1].dropna(), y_syn[y_syn==2].dropna()\n",
    "        X_syn_normal, X_syn_anomaly1 = X_syn.loc[list(y_syn_normal.index), :], X_syn.loc[list(y_syn_anomaly1.index), :]\n",
    "        X_syn_anomaly2 = X_syn.loc[list(y_syn_anomaly2.index), :]\n",
    "\n",
    "        ax2.scatter(X_syn_normal['X1'], X_syn_normal['X2'], alpha=0.3, c='blue', label='Normal')\n",
    "        ax2.scatter(X_syn_anomaly1['X1'], X_syn_anomaly1['X2'], alpha=0.3, c='red', label='Anomaly')\n",
    "        ax2.scatter(X_syn_anomaly2['X1'], X_syn_anomaly2['X2'], alpha=0.3, c='green', label='Anomaly')\n",
    "\n",
    "        ax2.spines['top'].set_visible(False)\n",
    "        ax2.spines['right'].set_visible(False)\n",
    "        ax2.get_xaxis().tick_bottom()\n",
    "        ax2.get_yaxis().tick_left()\n",
    "\n",
    "        plt.xlim((-5, 5))\n",
    "        plt.ylim((-5, 5))\n",
    "        plt.legend()\n",
    "        plt.tight_layout()\n",
    "        plt.title(method, fontsize=20)\n",
    "        \n",
    "    plt.show()"
   ]
  },
  {
   "cell_type": "markdown",
   "id": "9b713f9e",
   "metadata": {},
   "source": [
    "## Create_Dataset function: Generate example dataset"
   ]
  },
  {
   "cell_type": "code",
   "execution_count": null,
   "id": "20be91d7",
   "metadata": {},
   "outputs": [],
   "source": [
    "def create_dataset(n_samples=2000,\n",
    "                weights=(0.8, 0.2),\n",
    "                n_classes=2,\n",
    "                class_sep=1,\n",
    "                n_cluster=1,\n",
    "                random_state=0):\n",
    "    df = make_classification(n_samples=n_samples, n_features=2,\n",
    "                            n_informative=2, n_redundant=0, n_repeated=0,\n",
    "                            n_classes=n_classes,\n",
    "                            n_clusters_per_class=n_cluster,\n",
    "                            weights=list(weights),\n",
    "                            class_sep=class_sep, random_state=random_state)\n",
    "    \n",
    "    X = pd.DataFrame(df[0], columns=['X1', 'X2'])\n",
    "    y = pd.DataFrame(df[1], columns=['y'])\n",
    "    return X, y"
   ]
  },
  {
   "cell_type": "code",
   "execution_count": null,
   "id": "bdf2d8cc",
   "metadata": {},
   "outputs": [],
   "source": [
    "X_syn, y_syn = create_dataset(n_samples=5000, weights=(0.8, 0.1, 0.1), n_classes=3, n_cluster=1, random_state=711)"
   ]
  },
  {
   "cell_type": "code",
   "execution_count": null,
   "id": "a323519e",
   "metadata": {},
   "outputs": [],
   "source": [
    "X_syn.shape, y_syn.shape"
   ]
  },
  {
   "cell_type": "code",
   "execution_count": null,
   "id": "a0204958",
   "metadata": {},
   "outputs": [],
   "source": [
    "X_train, X_test, y_train, y_test = train_test_split(X_syn,y_syn, random_state=2022)"
   ]
  },
  {
   "cell_type": "code",
   "execution_count": null,
   "id": "3e9e7efa",
   "metadata": {},
   "outputs": [],
   "source": [
    "y_train.value_counts()"
   ]
  },
  {
   "cell_type": "code",
   "execution_count": null,
   "id": "1f3304ea",
   "metadata": {},
   "outputs": [],
   "source": [
    "plot_representation(X_train, y_train, X_test, y_test, method='Test')"
   ]
  },
  {
   "cell_type": "code",
   "execution_count": null,
   "id": "0ed3892a",
   "metadata": {},
   "outputs": [],
   "source": [
    "dt_tree = tree.DecisionTreeClassifier(random_state=2022)\n",
    "dt_tree.fit(X_train, y_train)\n",
    "\n",
    "y_pred_test = dt_tree.predict(X_test)\n",
    "cm_baseline = confusion_matrix(y_test, y_pred_test)"
   ]
  },
  {
   "cell_type": "code",
   "execution_count": null,
   "id": "ae38caa4",
   "metadata": {},
   "outputs": [],
   "source": [
    "dt_tree = tree.DecisionTreeClassifier(random_state=2022)\n",
    "dt_tree.fit(X_train, y_train)\n",
    "\n",
    "y_pred_test = dt_tree.predict(X_test)\n",
    "cm_baseline = confusion_matrix(y_test, y_pred_test)"
   ]
  },
  {
   "cell_type": "code",
   "execution_count": null,
   "id": "2e231e01",
   "metadata": {},
   "outputs": [],
   "source": [
    "cm_baseline"
   ]
  },
  {
   "cell_type": "code",
   "execution_count": null,
   "id": "483042f9",
   "metadata": {},
   "outputs": [],
   "source": [
    "recall_1 = cm_baseline[1, 1]/cm_baseline[1, :].sum()\n",
    "precision_1 = cm_baseline[1, 1]/cm_baseline[:, 1].sum()\n",
    "\n",
    "recall_2 = cm_baseline[2, 2]/cm_baseline[2, :].sum()\n",
    "precision_2 = cm_baseline[2, 2]/cm_baseline[:, 2].sum()"
   ]
  },
  {
   "cell_type": "code",
   "execution_count": null,
   "id": "7a7ef5c0",
   "metadata": {},
   "outputs": [],
   "source": [
    "print(\"Recall for anomaly 1 observations in test dataset: %.4f\"%(recall_1))\n",
    "print(\"Precision for anomaly 1 observations in test dataset: %.4f\"%(precision_1))\n",
    "      \n",
    "print(\"Recall for anomaly 2 observations in test dataset: %.4f\"%(recall_2))\n",
    "print(\"Precision for anomaly 2 observations in test dataset: %.4f\"%(precision_2))"
   ]
  },
  {
   "cell_type": "code",
   "execution_count": null,
   "id": "499ea41d",
   "metadata": {},
   "outputs": [],
   "source": [
    "rus = RandomUnderSampler()\n",
    "X_resampled, y_resampled = rus.fit_resample(X_train, y_train)\n",
    "\n",
    "plot_representation(X_train, y_train, X_resampled, y_resampled, 'RUS')"
   ]
  },
  {
   "cell_type": "code",
   "execution_count": null,
   "id": "8ea84898",
   "metadata": {},
   "outputs": [],
   "source": [
    "dt_tree = tree.DecisionTreeClassifier(random_state=2022)\n",
    "rus_tree = dt_tree.fit(X_resampled, y_resampled)\n",
    "\n",
    "y_pred_test = rus_tree.predict(X_test)\n",
    "cm_rus = confusion_matrix(y_test, y_pred_test)"
   ]
  },
  {
   "cell_type": "code",
   "execution_count": null,
   "id": "5f68d469",
   "metadata": {},
   "outputs": [],
   "source": [
    "cm_rus"
   ]
  },
  {
   "cell_type": "code",
   "execution_count": null,
   "id": "0a1147e8",
   "metadata": {},
   "outputs": [],
   "source": [
    "print(\"Recall for anomaly 1 observations in test dataset: %.4f\"%(recall_1))\n",
    "print(\"Precision for anomaly 1 observations in test dataset: %.4f\"%(precision_1))\n",
    "      \n",
    "print(\"Recall for anomaly 2 observations in test dataset: %.4f\"%(recall_2))\n",
    "print(\"Precision for anomaly 2 observations in test dataset: %.4f\"%(precision_2))"
   ]
  },
  {
   "cell_type": "code",
   "execution_count": null,
   "id": "891a99e8",
   "metadata": {},
   "outputs": [],
   "source": [
    "tl = TomekLinks()\n",
    "X_resampled, y_resampled = tl.fit_resample(X_train, y_train)\n",
    "\n",
    "plot_representation(X_train, y_train, X_resampled, y_resampled, 'TomekLinks')"
   ]
  },
  {
   "cell_type": "code",
   "execution_count": null,
   "id": "30888f69",
   "metadata": {},
   "outputs": [],
   "source": [
    "dt_tree = tree.DecisionTreeClassifier(random_state=2022)\n",
    "tl_tree = dt_tree.fit(X_resampled, y_resampled)\n",
    "\n",
    "y_pred_test = tl_tree.predict(X_test)\n",
    "cm_tl = confusion_matrix(y_test, y_pred_test)"
   ]
  },
  {
   "cell_type": "code",
   "execution_count": null,
   "id": "24bb3ed4",
   "metadata": {},
   "outputs": [],
   "source": [
    "cm_tl"
   ]
  },
  {
   "cell_type": "code",
   "execution_count": null,
   "id": "71b3de7b",
   "metadata": {},
   "outputs": [],
   "source": [
    "print(\"Recall for anomaly 1 observations in test dataset: %.4f\"%(recall_1))\n",
    "print(\"Precision for anomaly 1 observations in test dataset: %.4f\"%(precision_1))\n",
    "      \n",
    "print(\"Recall for anomaly 2 observations in test dataset: %.4f\"%(recall_2))\n",
    "print(\"Precision for anomaly 2 observations in test dataset: %.4f\"%(precision_2))"
   ]
  },
  {
   "cell_type": "code",
   "execution_count": null,
   "id": "1c4f4bc5",
   "metadata": {},
   "outputs": [],
   "source": [
    "cnn = CondensedNearestNeighbour(n_jobs=4)\n",
    "X_resampled, y_resampled = cnn.fit_resample(X_train, y_train)\n",
    "\n",
    "plot_representation(X_train, y_train, X_resampled, y_resampled, 'Condensed Nearest Neighbour')"
   ]
  },
  {
   "cell_type": "code",
   "execution_count": null,
   "id": "e72b97f7",
   "metadata": {},
   "outputs": [],
   "source": [
    "dt_tree = tree.DecisionTreeClassifier(random_state=2022)\n",
    "cnn_tree = dt_tree.fit(X_resampled, y_resampled)\n",
    "\n",
    "y_pred_test = cnn_tree.predict(X_test)\n",
    "cm_cnn = confusion_matrix(y_test, y_pred_test)"
   ]
  },
  {
   "cell_type": "code",
   "execution_count": null,
   "id": "3b1ab460",
   "metadata": {},
   "outputs": [],
   "source": [
    "cm_cnn"
   ]
  },
  {
   "cell_type": "code",
   "execution_count": null,
   "id": "e1f948be",
   "metadata": {},
   "outputs": [],
   "source": [
    "print(\"Recall for anomaly 1 observations in test dataset: %.4f\"%(recall_1))\n",
    "print(\"Precision for anomaly 1 observations in test dataset: %.4f\"%(precision_1))\n",
    "      \n",
    "print(\"Recall for anomaly 2 observations in test dataset: %.4f\"%(recall_2))\n",
    "print(\"Precision for anomaly 2 observations in test dataset: %.4f\"%(precision_2))"
   ]
  },
  {
   "cell_type": "code",
   "execution_count": null,
   "id": "41e622db",
   "metadata": {},
   "outputs": [],
   "source": [
    "oss = OneSidedSelection()\n",
    "X_resampled, y_resampled = oss.fit_resample(X_train, y_train)\n",
    "\n",
    "plot_representation(X_train, y_train, X_resampled, y_resampled, 'One-sided selection')"
   ]
  },
  {
   "cell_type": "code",
   "execution_count": null,
   "id": "d66c1f37",
   "metadata": {},
   "outputs": [],
   "source": [
    "dt_tree = tree.DecisionTreeClassifier(random_state=2022)\n",
    "oss_tree = dt_tree.fit(X_resampled, y_resampled)\n",
    "\n",
    "y_pred_test = oss_tree.predict(X_test)\n",
    "cm_oss = confusion_matrix(y_test, y_pred_test)"
   ]
  },
  {
   "cell_type": "code",
   "execution_count": null,
   "id": "cc4381b8",
   "metadata": {},
   "outputs": [],
   "source": [
    "cm_oss"
   ]
  },
  {
   "cell_type": "code",
   "execution_count": null,
   "id": "a8d4172c",
   "metadata": {},
   "outputs": [],
   "source": [
    "print(\"Recall for anomaly 1 observations in test dataset: %.4f\"%(recall_1))\n",
    "print(\"Precision for anomaly 1 observations in test dataset: %.4f\"%(precision_1))\n",
    "      \n",
    "print(\"Recall for anomaly 2 observations in test dataset: %.4f\"%(recall_2))\n",
    "print(\"Precision for anomaly 2 observations in test dataset: %.4f\"%(precision_2))"
   ]
  },
  {
   "cell_type": "code",
   "execution_count": null,
   "id": "9c3bba77",
   "metadata": {},
   "outputs": [],
   "source": []
  },
  {
   "cell_type": "code",
   "execution_count": null,
   "id": "4f1594f3",
   "metadata": {},
   "outputs": [],
   "source": []
  }
 ],
 "metadata": {
  "kernelspec": {
   "display_name": "Python 3 (ipykernel)",
   "language": "python",
   "name": "python3"
  },
  "language_info": {
   "codemirror_mode": {
    "name": "ipython",
    "version": 3
   },
   "file_extension": ".py",
   "mimetype": "text/x-python",
   "name": "python",
   "nbconvert_exporter": "python",
   "pygments_lexer": "ipython3",
   "version": "3.7.11"
  }
 },
 "nbformat": 4,
 "nbformat_minor": 5
}
